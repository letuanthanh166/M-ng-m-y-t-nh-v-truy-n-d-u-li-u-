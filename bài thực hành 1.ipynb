{
 "cells": [
  {
   "cell_type": "code",
   "execution_count": 1,
   "id": "3e39d41a",
   "metadata": {},
   "outputs": [
    {
     "name": "stdout",
     "output_type": "stream",
     "text": [
      "Văn bản mã hóa (AES): b'B!\\xca\\x87\\xb3W\\xdfg\\xa7\\xe8\\xfb\\xff:#\\xbc\\xf7_\\xc9\\x17\\x00\\x18J\\x9e5\\x8c=\\xc1\\xc4\\x8b\\x08\\xd7^\\xff\\xbb\\x13Pq\\x7f\\x12\\xb4\\xea\\xcen\\xfa-b\\xe6\\xca\\xba\\xb5\\xc0\\xed?\\xa3R\\x1f\\xf87k\\x0br\\xa1\\xa1\\xd2'\n",
      "Thời gian mã hóa AES: 0.0 giây\n",
      "Văn bản giải mã (AES): Hello, this is a test message for AES encryption!\n",
      "Thời gian giải mã AES: 0.0 giây\n"
     ]
    }
   ],
   "source": [
    "# Code mẫu:\n",
    "from Crypto.Cipher import AES\n",
    "from Crypto.Random import get_random_bytes\n",
    "from Crypto.Util.Padding import pad, unpad\n",
    "import time\n",
    "\n",
    "# Tạo khóa mã hóa 128-bit và khởi tạo AES\n",
    "key = get_random_bytes(16)\n",
    "cipher = AES.new(key, AES.MODE_CBC)\n",
    "\n",
    "plaintext = b\"Hello, this is a test message for AES encryption!\"\n",
    "\n",
    "# Đo thời gian mã hóa AES\n",
    "start_time = time.time()\n",
    "ciphertext = cipher.encrypt(pad(plaintext, AES.block_size))\n",
    "end_time = time.time()\n",
    "aes_encryption_time = end_time - start_time\n",
    "\n",
    "print(\"Văn bản mã hóa (AES):\", ciphertext)\n",
    "print(\"Thời gian mã hóa AES:\", aes_encryption_time, \"giây\")\n",
    "\n",
    "# Giải mã và đo thời gian giải mã AES\n",
    "start_time = time.time()\n",
    "decipher = AES.new(key, AES.MODE_CBC, cipher.iv)\n",
    "decrypted_text = unpad(decipher.decrypt(ciphertext), AES.block_size)\n",
    "end_time = time.time()\n",
    "aes_decryption_time = end_time - start_time\n",
    "\n",
    "print(\"Văn bản giải mã (AES):\", decrypted_text.decode())\n",
    "print(\"Thời gian giải mã AES:\", aes_decryption_time, \"giây\")\n"
   ]
  },
  {
   "cell_type": "code",
   "execution_count": 2,
   "id": "f8fda96d",
   "metadata": {},
   "outputs": [
    {
     "name": "stdout",
     "output_type": "stream",
     "text": [
      "Khóa AES sau khi mã hóa bằng RSA: b'\\xb6<\\nTl\\xc7O\\xf4\\xf3\\x8f\\xd7\\xef\\x90\\xe3P<\\x9eN\\xb9Z\\x04`\\x1a\\x18/e\\xa5\\xdem\\xfb\\xd3F\\xcf\\xb8\\x9a.\\x9aV\\xefo\\xa3_\\xdf>>\\xc9^H\\xb3\\xbb\\xd3\\xcc\\xe6[tv \\x818$\\x17\\xe8%\\xfc\\xe2\\x16\\x80\\x97\\xf7\\xb3\\xb0\\xcb!\\nH\\xd6\\x11\\x91!^\\x060\"\\xfa\\xfb\\x7f\\xcdr\\x87\\xd3\\xda\\xeb\\x04R\\x8b9\\xcd!\\x99\\x8d\\xf3\\x8c\\xa8\\x1f\\xdd\\xa1M\\xfa#8\\xff]\\xd4 hM\\x14cT\\x98\\xba\\x88\\x95\\xbblB\\xc2\"`A\\xca\\xd4\\xb9\\'?,\\n\\xfbb\\x01Yd\\xdbEj\\x8f\\xf8\\x95\\x15\\xb2\\x19\\x98\\xc7s\\xfb75{l\\xa3K\\xb3\\xa0\\xbbW\\x125\\xe9_ \\xf9/\\x93\\xe4j_\\x1fI]\\xd86\\x8e\\xbf\\xdcz\\xc3xj\\xb3\\xfc\\xc96\\x934\\x1eV\\xad:\\x99N\\xb1\\xf1i\\xe0\\xef;\\n\\nE\\x12\\x11\\xbe\\xd4\\xc9\\xcd\\x12\\x9f4\\xecN#O\\x1f<.\\x18\\xf3\\xee\\xc4\\xedqE\\xddg\\x84\\x9b\\xc1\\xb4\\x02. j\\x9d\\xbc\\xd2\\x80\\x9b\\x82\\trT\\xae\\x1a\\x0f\\x99@'\n",
      "Thời gian mã hóa RSA: 0.0 giây\n",
      "Khóa AES sau khi giải mã: b\"'$\\x10D\\xf6k\\x05\\xed\\xfb\\x97!4v\\x8d\\xf7\\x7f\"\n",
      "Thời gian giải mã RSA: 0.016574621200561523 giây\n"
     ]
    }
   ],
   "source": [
    "from Crypto.PublicKey import RSA\n",
    "from Crypto.Cipher import PKCS1_OAEP\n",
    "\n",
    "# Tạo cặp khóa RSA\n",
    "key = RSA.generate(2048)\n",
    "private_key = key.export_key()\n",
    "public_key = key.publickey().export_key()\n",
    "\n",
    "# Mã hóa khóa AES bằng khóa công khai RSA và đo thời gian\n",
    "aes_key = get_random_bytes(16)\n",
    "cipher_rsa = PKCS1_OAEP.new(RSA.import_key(public_key))\n",
    "start_time = time.time()\n",
    "encrypted_aes_key = cipher_rsa.encrypt(aes_key)\n",
    "end_time = time.time()\n",
    "rsa_encryption_time = end_time - start_time\n",
    "\n",
    "print(\"Khóa AES sau khi mã hóa bằng RSA:\", encrypted_aes_key)\n",
    "print(\"Thời gian mã hóa RSA:\", rsa_encryption_time, \"giây\")\n",
    "\n",
    "# Giải mã khóa AES bằng khóa bí mật RSA và đo thời gian\n",
    "decipher_rsa = PKCS1_OAEP.new(RSA.import_key(private_key))\n",
    "\n",
    "start_time = time.time()\n",
    "decrypted_aes_key = decipher_rsa.decrypt(encrypted_aes_key)\n",
    "end_time = time.time()\n",
    "rsa_decryption_time = end_time - start_time\n",
    "\n",
    "print(\"Khóa AES sau khi giải mã:\", decrypted_aes_key)\n",
    "print(\"Thời gian giải mã RSA:\", rsa_decryption_time, \"giây\")\n"
   ]
  },
  {
   "cell_type": "code",
   "execution_count": 4,
   "id": "4057a8c5",
   "metadata": {},
   "outputs": [
    {
     "name": "stdout",
     "output_type": "stream",
     "text": [
      "Khóa AES sau khi giải mã: b\"'$\\x10D\\xf6k\\x05\\xed\\xfb\\x97!4v\\x8d\\xf7\\x7f\"\n",
      "Thời gian giải mã RSA: 0.016574621200561523 giây\n"
     ]
    }
   ],
   "source": [
    "from Crypto.PublicKey import RSA\n",
    "from Crypto.Cipher import PKCS1_OAEP\n",
    "\n",
    "# Tạo cặp khóa RSA\n",
    "key = RSA.generate(2048)\n",
    "private_key = key.export_key()\n",
    "public_key = key.publickey().export_key()\n",
    "\n",
    "# Mã hóa khóa AES bằng khóa công khai RSA và đo thời gian\n",
    "aes_key = get_random_bytes(16)\n",
    "cipher_rsa = PKCS1_OAEP.new(RSA.import_key(public_key))\n",
    "\n",
    "start_time = time.time()\n",
    "\n",
    "\n",
    "print(\"Khóa AES sau khi giải mã:\", decrypted_aes_key)\n",
    "print(\"Thời gian giải mã RSA:\", rsa_decryption_time, \"giây\")\n",
    "\n"
   ]
  }
 ],
 "metadata": {
  "kernelspec": {
   "display_name": "Python 3",
   "language": "python",
   "name": "python3"
  },
  "language_info": {
   "codemirror_mode": {
    "name": "ipython",
    "version": 3
   },
   "file_extension": ".py",
   "mimetype": "text/x-python",
   "name": "python",
   "nbconvert_exporter": "python",
   "pygments_lexer": "ipython3",
   "version": "3.10.11"
  }
 },
 "nbformat": 4,
 "nbformat_minor": 5
}
